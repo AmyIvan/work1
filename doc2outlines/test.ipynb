{
 "cells": [
  {
   "cell_type": "code",
   "execution_count": 4,
   "metadata": {},
   "outputs": [
    {
     "name": "stderr",
     "output_type": "stream",
     "text": [
      "Truncation was not explicitly activated but `max_length` is provided a specific value, please use `truncation=True` to explicitly truncate examples to max length. Defaulting to 'longest_first' truncation strategy. If you encode pairs of sequences (GLUE-style) with the tokenizer you can select this strategy more precisely by providing a specific strategy to `truncation`.\n"
     ]
    },
    {
     "data": {
      "text/plain": [
       "' President Donald Trump says he will cut prescription drug prices by 59% . He gave no further details about his plan to lower medicine costs . Global pharma shares traded lower Monday morning .'"
      ]
     },
     "execution_count": 4,
     "metadata": {},
     "output_type": "execute_result"
    }
   ],
   "source": [
    "from transformers import AutoTokenizer, BartForConditionalGeneration\n",
    "\n",
    "model = BartForConditionalGeneration.from_pretrained(\"/data/ymai/distilbart-cnn-12-6/\")\n",
    "tokenizer = AutoTokenizer.from_pretrained(\"/data/ymai/distilbart-cnn-12-6/\")\n",
    "\n",
    "ARTICLE_TO_SUMMARIZE = (\n",
    "    \"PG&E stated it scheduled the blackouts in response to forecasts for high winds \"\n",
    "    \"amid dry conditions. The aim is to reduce the risk of wildfires. Nearly 800 thousand customers were \"\n",
    "    \"scheduled to be affected by the shutoffs which were expected to last through at least midday tomorrow.\"\n",
    ")\n",
    "ARTICLE_TO_SUMMARIZE = (\n",
    "    \"WASHINGTON (Reuters) -U.S. President Donald Trump said he would cut prescription drug prices by 59%, but gave no further details about his plan to lower medicine costs ahead of a health-related event at the White House later on Monday. \\\"Drug prices to be cut by 59%\\\" Trump wrote in capital letters on his social media platform as global pharma shares traded lower Monday morning. On Sunday, Trump said he would sign an executive order to pursue what is known as \\\"most favored nation\\\" pricing or international reference pricing.(Reporting by Susan Heavey, Editing by Louise Heavens)\"\n",
    ")\n",
    "inputs = tokenizer([ARTICLE_TO_SUMMARIZE], max_length=1024, return_tensors=\"pt\")\n",
    "\n",
    "# Generate Summary\n",
    "summary_ids = model.generate(inputs[\"input_ids\"], num_beams=2, min_length=0, max_length=100)\n",
    "tokenizer.batch_decode(summary_ids, skip_special_tokens=True, clean_up_tokenization_spaces=False)[0]"
   ]
  }
 ],
 "metadata": {
  "language_info": {
   "name": "python"
  }
 },
 "nbformat": 4,
 "nbformat_minor": 2
}
